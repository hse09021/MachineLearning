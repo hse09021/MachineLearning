{
 "cells": [
  {
   "cell_type": "markdown",
   "metadata": {},
   "source": [
    "## 초기 환경 세팅\n",
    "\n",
    "- 패키지 설치\n",
    "\n",
    "- 경로 설정\n",
    "\n",
    "- 폴더 구조\n",
    "\n",
    "```\n",
    "    BASE_DIR\n",
    "    ├ data              // 초기에 제공되는 데이터들\n",
    "    │ ├ private         // 교수님께서 제공한 private 테스트 이미지 (png 파일 15,000장)\n",
    "    │ │ │ 00000.png\n",
    "    │ │ │ ...\n",
    "    │ │ └ 14999.png\n",
    "    │ ├ public          // 교수님께서 제공한 public 테스트 이미지 (png 파일 10,000장)\n",
    "    │ │ │ 00000.png\n",
    "    │ │ │ ...\n",
    "    │ │ └ 09999.png\n",
    "    │ ├ fashion-mnist_test.csv      // kaggle에서 다운로드 받은 Fashion-MNIST 테스트 데이터\n",
    "    │ ├ fashion-mnist_train.csv     // kaggle에서 다운로드 받은 Fashion-MNIST 학습 데이터\n",
    "    │ ├ public_label.txt            // 교수님께서 제공한 public result\n",
    "    │ ├ t10k-images-idx3-ubyte\n",
    "    │ ├ t10k-labels-idx1-ubyte\n",
    "    │ ├ train-images-idx3-ubyte\n",
    "    │ └ train-labels-idx1-ubyte\n",
    "    ├ model\n",
    "    │ └ raw_svm.pkl\n",
    "    ├ result\n",
    "    │ └ raw_svm_testResult.txt\n",
    "    ├ baseCode.ipynb\n",
    "    ├ KNN.ipynb\n",
    "    ├ LDA&Ensemble.ipynb\n",
    "    ├ PCA.ipynb\n",
    "    └ README.md\n",
    "```"
   ]
  },
  {
   "cell_type": "code",
   "execution_count": 3,
   "metadata": {},
   "outputs": [],
   "source": [
    "# 필요한 패키지 설치\n",
    "# !pip install pandas numpy matplotlib scikit-learn tqdm seaborn opencv-python scikit-image xgboost"
   ]
  },
  {
   "cell_type": "code",
   "execution_count": 4,
   "metadata": {},
   "outputs": [],
   "source": [
    "import os\n",
    "\n",
    "# 데이터셋 파일 경로 설정\n",
    "BASE_DIR = os.getcwd()\n",
    "DATA_DIR = BASE_DIR + \"/data\"\n",
    "MODEL_DIR = MODEL_DIR = BASE_DIR + '/model'\n",
    "RESULT_DIR = BASE_DIR + '/result'"
   ]
  },
  {
   "cell_type": "code",
   "execution_count": 5,
   "metadata": {},
   "outputs": [],
   "source": [
    "import csv\n",
    "import tqdm\n",
    "import pandas as pd\n",
    "import numpy as np\n",
    "import numpy.typing as npt\n",
    "import matplotlib.pyplot as plt\n",
    "from typing import Literal\n",
    "import cv2\n",
    "\n",
    "def load_data(kind:Literal['train', 'test', 'public', 'private']) -> tuple[np.ndarray, pd.DataFrame]:\n",
    "    \"\"\"\n",
    "        kind: 불러올 데이터의 종류.\\n\n",
    "    \"\"\"\n",
    "    header, labels, imgs = list(), list(), list()\n",
    "    header = [f'pixel{idx+1}' for idx in range(784)]\n",
    "    \n",
    "    # Fashion MNIST 파일 불러오기\n",
    "    if kind in ['train', 'test']:\n",
    "        DATA_PATH = DATA_DIR + f\"/fashion-mnist_{kind}.csv\"\n",
    "        with open(DATA_PATH, 'r') as data:\n",
    "            for idx, row in tqdm.tqdm(enumerate(csv.reader(data))):\n",
    "                if idx==0:\n",
    "                    header = row[1:]\n",
    "                else:\n",
    "                    label, img = row[0], row[1:]\n",
    "                    labels.append(label)\n",
    "                    imgs.append(img)\n",
    "    \n",
    "    # public 파일 불러오기\n",
    "    elif kind=='public':\n",
    "        FILE_PATH = f'{DATA_DIR}/public'\n",
    "        FILE_LIST = sorted(os.listdir(f'{FILE_PATH}'))\n",
    "        for filename in tqdm.tqdm(FILE_LIST):\n",
    "            img = cv2.imread(f'{FILE_PATH}/{filename}', cv2.IMREAD_GRAYSCALE).flatten()\n",
    "            imgs.append(img)\n",
    "        with open(f'{DATA_DIR}/public_label.txt', 'r') as f:\n",
    "            for line in f.readlines():\n",
    "                labels.append(line.strip().split(' ')[1])\n",
    "    \n",
    "    # private 파일 불러오기\n",
    "    elif kind=='private':\n",
    "        FILE_PATH = f'{DATA_DIR}/private'\n",
    "        FILE_LIST = sorted(os.listdir(f'{FILE_PATH}'))\n",
    "        for filename in tqdm.tqdm(FILE_LIST):\n",
    "            img = cv2.imread(f'{FILE_PATH}/{filename}', cv2.IMREAD_GRAYSCALE).flatten()\n",
    "            imgs.append(img)\n",
    "    \n",
    "\n",
    "    labels = np.array(labels, dtype='int32')\n",
    "    imgs = pd.DataFrame(imgs, columns=header, dtype='float32')\n",
    "    return labels, imgs\n",
    "\n",
    "\n"
   ]
  },
  {
   "cell_type": "code",
   "execution_count": null,
   "metadata": {},
   "outputs": [],
   "source": [
    "train_labels, train_imgs = load_data('train')\n",
    "test_labels, test_imgs = load_data('test')\n",
    "public_labels, public_imgs = load_data('public')\n",
    "private_labels, private_imgs = load_data('private')"
   ]
  }
 ],
 "metadata": {
  "kernelspec": {
   "display_name": "base",
   "language": "python",
   "name": "python3"
  },
  "language_info": {
   "codemirror_mode": {
    "name": "ipython",
    "version": 3
   },
   "file_extension": ".py",
   "mimetype": "text/x-python",
   "name": "python",
   "nbconvert_exporter": "python",
   "pygments_lexer": "ipython3",
   "version": "3.11.4"
  }
 },
 "nbformat": 4,
 "nbformat_minor": 2
}
