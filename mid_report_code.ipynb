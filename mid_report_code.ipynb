{
 "cells": [
  {
   "cell_type": "code",
   "execution_count": 1,
   "metadata": {},
   "outputs": [],
   "source": [
    "import numpy as np\n",
    "import pandas as pd\n",
    "import time\n",
    "\n",
    "# import matplotlib.pyplot as plt\n",
    "# import seaborn as sns\n",
    "# import plotly.graph_objects as go\n",
    "\n",
    "from sklearn.preprocessing import StandardScaler\n",
    "from sklearn.decomposition import PCA\n",
    "from sklearn import svm\n",
    "from sklearn.svm import SVC\n",
    "from sklearn.ensemble import RandomForestClassifier\n",
    "\n",
    "from sklearn.model_selection import train_test_split\n",
    "from sklearn import metrics\n",
    "# from sklearn.metrics import accuracy_score,confusion_matrix\n",
    "\n",
    "\n"
   ]
  },
  {
   "cell_type": "code",
   "execution_count": 2,
   "metadata": {},
   "outputs": [],
   "source": [
    "trainSet = pd.read_csv(\"./fashion-mnist_train.csv\")\n",
    "# load train data and copy them\n",
    "df_train = trainSet.copy()\n"
   ]
  },
  {
   "cell_type": "code",
   "execution_count": 3,
   "metadata": {},
   "outputs": [],
   "source": [
    "# separating data and label\n",
    "X_train = df_train.drop(['label'],axis = 1)\n",
    "X_test = df_train['label']\n",
    "X_test\n",
    "\n",
    "# do nomalization\n",
    "X_train = X_train.astype('float32')\n",
    "X_train /= 255.0\n"
   ]
  },
  {
   "cell_type": "code",
   "execution_count": 4,
   "metadata": {},
   "outputs": [],
   "source": [
    "#split train&test\n",
    "seed = 99\n",
    "np.random.seed(seed)\n",
    "X_train, X_val,Y_train,Y_val = train_test_split(X_train,X_test,test_size =0.1, random_state= seed)\n",
    "# do standard scaling\n",
    "X_train=StandardScaler().fit_transform(X_train)\n",
    "X_val=StandardScaler().fit_transform(X_val)"
   ]
  },
  {
   "cell_type": "code",
   "execution_count": 5,
   "metadata": {},
   "outputs": [
    {
     "data": {
      "text/plain": [
       "(54000, 100)"
      ]
     },
     "execution_count": 5,
     "metadata": {},
     "output_type": "execute_result"
    }
   ],
   "source": [
    "# PCA -> dimenstion Reducing\n",
    "pca = PCA(n_components=100, random_state=42)\n",
    "X_train_pca =pca.fit_transform(X_train)\n",
    "X_test_pca = pca.transform(X_val)\n",
    "X_train_PCA1 = pd.DataFrame(X_train_pca)\n",
    "X_test_PCA1 = pd.DataFrame(X_test_pca)\n",
    "X_train_pca.shape"
   ]
  },
  {
   "cell_type": "code",
   "execution_count": 6,
   "metadata": {},
   "outputs": [
    {
     "name": "stdout",
     "output_type": "stream",
     "text": [
      "SVM Time: 22.10 minute\n"
     ]
    }
   ],
   "source": [
    "# svm model\n",
    "start = time.time()\n",
    "# \n",
    "svc = SVC(C=1,kernel='rbf',gamma=\"auto\",probability = True)\n",
    "# Cost -->  13 / kernel --> gaussian /  gamma --> 1/# features\n",
    "svc.fit(X_train_PCA1,Y_train)\n",
    "\n",
    "end = time.time()\n",
    "svm_time = end-start\n",
    "print(\"SVM Time: {:0.2f} minute\".format(svm_time/60.0))"
   ]
  },
  {
   "cell_type": "code",
   "execution_count": 7,
   "metadata": {},
   "outputs": [
    {
     "name": "stdout",
     "output_type": "stream",
     "text": [
      "Random Forest Time: 5.03 minute\n"
     ]
    }
   ],
   "source": [
    "# 혼성모델\n",
    "start1 = time.time()\n",
    "\n",
    "random_forest = RandomForestClassifier(criterion='entropy', max_depth=70, n_estimators=100)\n",
    "random_forest.fit(X_train_PCA1, Y_train)\n",
    "\n",
    "end1 = time.time()\n",
    "forest_time = end1-start1\n",
    "print(\"Random Forest Time: {:0.2f} minute\".format(forest_time/60.0))"
   ]
  },
  {
   "cell_type": "code",
   "execution_count": 8,
   "metadata": {},
   "outputs": [
    {
     "name": "stdout",
     "output_type": "stream",
     "text": [
      "Train Accuracy score: 0.9651296296296297\n",
      "Test Accuracy score: 0.874\n",
      "              precision    recall  f1-score   support\n",
      "\n",
      "           0       0.84      0.81      0.82       574\n",
      "           1       1.00      0.97      0.99       596\n",
      "           2       0.83      0.80      0.82       573\n",
      "           3       0.93      0.91      0.92       624\n",
      "           4       0.85      0.84      0.85       635\n",
      "           5       0.98      0.89      0.94       632\n",
      "           6       0.77      0.66      0.71       600\n",
      "           7       0.94      0.95      0.95       604\n",
      "           8       0.71      0.99      0.83       598\n",
      "           9       0.95      0.90      0.92       564\n",
      "\n",
      "    accuracy                           0.87      6000\n",
      "   macro avg       0.88      0.87      0.87      6000\n",
      "weighted avg       0.88      0.87      0.87      6000\n",
      "\n",
      "Train Accuracy score: 1.0\n",
      "Test Accuracy score: 0.8723333333333333\n",
      "              precision    recall  f1-score   support\n",
      "\n",
      "           0       0.81      0.87      0.84       574\n",
      "           1       0.99      0.96      0.98       596\n",
      "           2       0.79      0.81      0.80       573\n",
      "           3       0.88      0.91      0.90       624\n",
      "           4       0.80      0.84      0.82       635\n",
      "           5       0.94      0.91      0.92       632\n",
      "           6       0.72      0.59      0.65       600\n",
      "           7       0.91      0.92      0.92       604\n",
      "           8       0.94      0.97      0.95       598\n",
      "           9       0.92      0.95      0.93       564\n",
      "\n",
      "    accuracy                           0.87      6000\n",
      "   macro avg       0.87      0.87      0.87      6000\n",
      "weighted avg       0.87      0.87      0.87      6000\n",
      "\n"
     ]
    }
   ],
   "source": [
    "# 정확도 평가\n",
    "y_train_svc = svc.predict(X_train_PCA1)\n",
    "y_pred_svc = svc.predict(X_test_pca)\n",
    "svc_train = metrics.accuracy_score(Y_train,y_train_svc)\n",
    "svc_accuracy = metrics.accuracy_score(Y_val, y_pred_svc)\n",
    "\n",
    "print(\"Train Accuracy score: {}\".format(svc_train))\n",
    "print(\"Test Accuracy score: {}\".format(svc_accuracy))\n",
    "print(metrics.classification_report(Y_val, y_pred_svc))\n",
    "\n",
    "y_train_forest = random_forest.predict(X_train_PCA1)\n",
    "y_pred_forest = random_forest.predict(X_test_pca)\n",
    "random_forest_train = metrics.accuracy_score(Y_train,y_train_forest)\n",
    "random_forest_accuracy = metrics.accuracy_score(Y_val, y_pred_forest)\n",
    "\n",
    "print(\"Train Accuracy score: {}\".format(random_forest_train))\n",
    "print(\"Test Accuracy score: {}\".format(random_forest_accuracy))\n",
    "print(metrics.classification_report(Y_val, y_pred_forest))"
   ]
  },
  {
   "cell_type": "code",
   "execution_count": null,
   "metadata": {},
   "outputs": [],
   "source": []
  }
 ],
 "metadata": {
  "kernelspec": {
   "display_name": "Python 3",
   "language": "python",
   "name": "python3"
  },
  "language_info": {
   "codemirror_mode": {
    "name": "ipython",
    "version": 3
   },
   "file_extension": ".py",
   "mimetype": "text/x-python",
   "name": "python",
   "nbconvert_exporter": "python",
   "pygments_lexer": "ipython3",
   "version": "3.11.2"
  }
 },
 "nbformat": 4,
 "nbformat_minor": 2
}
