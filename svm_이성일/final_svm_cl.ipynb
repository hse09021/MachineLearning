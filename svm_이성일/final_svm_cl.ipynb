{
 "cells": [
  {
   "cell_type": "markdown",
   "metadata": {},
   "source": [
    "## LIBS"
   ]
  },
  {
   "cell_type": "code",
   "execution_count": 1,
   "metadata": {},
   "outputs": [],
   "source": [
    "import numpy as np\n",
    "import matplotlib.pyplot as plt\n",
    "import pandas as pd\n",
    "import time\n",
    "\n",
    "from sklearn.svm import SVC\n",
    "from sklearn.preprocessing import StandardScaler\n",
    "from sklearn.decomposition import PCA\n",
    "from sklearn.model_selection import GridSearchCV\n",
    "\n",
    "from sklearn.model_selection import train_test_split\n",
    "from sklearn.model_selection import KFold\n",
    "\n",
    "from sklearn import metrics"
   ]
  },
  {
   "cell_type": "markdown",
   "metadata": {},
   "source": [
    "## Train Data Load and Normalization"
   ]
  },
  {
   "cell_type": "code",
   "execution_count": 2,
   "metadata": {},
   "outputs": [],
   "source": [
    "# training data path\n",
    "training_data = pd.read_csv('./fashion-mnist_train.csv')\n",
    "\n",
    "train_label = training_data['label']\n",
    "train_X = training_data.drop('label',axis=1)\n",
    "\n",
    "# do nomalization\n",
    "train_X = train_X.astype('float32')\n",
    "train_X /= 255.0\n",
    "\n",
    "seed = 99\n",
    "np.random.seed(seed)\n",
    "X_train, X_val,label_train,label_val = train_test_split(train_X,train_label,test_size =0.1, random_state= seed)\n",
    "# split train set and validation set\n",
    "\n",
    "# do standard scaling (norm method)\n",
    "X_train=StandardScaler().fit_transform(X_train)\n",
    "X_val=StandardScaler().fit_transform(X_val)\n",
    "\n"
   ]
  },
  {
   "cell_type": "markdown",
   "metadata": {},
   "source": [
    "## Test Data Load and Normalization"
   ]
  },
  {
   "cell_type": "code",
   "execution_count": 3,
   "metadata": {},
   "outputs": [],
   "source": [
    "# test set load\n",
    "import os\n",
    "from PIL import Image\n",
    "# data_dir -> 테스트 데이터가 들어있는 dir입니다.\n",
    "data_dir = \"./data/data\"\n",
    "file_names = [f for f in os.listdir(data_dir) if os.path.isfile(os.path.join(data_dir, f))]\n",
    "Test_set = []\n",
    "for file in file_names:\n",
    "    if file.endswith('png'):\n",
    "        file_path = os.path.join(data_dir,file)\n",
    "        img = Image.open(file_path)\n",
    "        if img.mode == 'RGB':\n",
    "            img = img.convert('L')\n",
    "        img_arr = list(img.getdata())\n",
    "        Test_set.append(img_arr)\n",
    "\n",
    "columns = [f'pixel_{i}' for i in range(28*28)]\n",
    "# image array -> DataFrame\n",
    "test_X = pd.DataFrame(Test_set, columns=columns)\n",
    "test_X = test_X.astype('float32')\n",
    "test_X /= 255.0\n",
    "\n",
    "test_X = StandardScaler().fit_transform(test_X)\n",
    "\n"
   ]
  },
  {
   "cell_type": "markdown",
   "metadata": {},
   "source": [
    "## PCA"
   ]
  },
  {
   "cell_type": "code",
   "execution_count": 4,
   "metadata": {},
   "outputs": [
    {
     "data": {
      "image/png": "[encoded data removed]",
      "text/plain": [
       "<Figure size 640x480 with 1 Axes>"
      ]
     },
     "metadata": {},
     "output_type": "display_data"
    }
   ],
   "source": [
    "pca = PCA(n_components=187, random_state=42)\n",
    "\n",
    "X_train_pca =pca.fit_transform(X_train)\n",
    "X_val_pca = pca.transform(X_val)    # transform -> 트레이닝셋으로 부터 뽑은 주성분에 투영\n",
    "X_train_PCA1 = pd.DataFrame(X_train_pca)\n",
    "X_val_PCA1 = pd.DataFrame(X_val_pca)\n",
    "\n",
    "plt.plot(np.cumsum(pca.explained_variance_ratio_))\n",
    "plt.xlabel('number of components')\n",
    "plt.ylabel('cumulative variance')\n",
    "\n",
    "test_pca = pca.transform(test_X)\n",
    "test_PCA = pd.DataFrame(test_pca)\n"
   ]
  },
  {
   "cell_type": "markdown",
   "metadata": {},
   "source": [
    "## Tuning"
   ]
  },
  {
   "cell_type": "code",
   "execution_count": 5,
   "metadata": {},
   "outputs": [
    {
     "name": "stdout",
     "output_type": "stream",
     "text": [
      "best parameters: {'C': 8, 'gamma': 'scale', 'kernel': 'rbf'}\n",
      "Train Accuracy score: 0.9578703703703704\n",
      "Validation Accuracy score: 0.9041666666666667\n",
      "              precision    recall  f1-score   support\n",
      "\n",
      "           0       0.84      0.87      0.85       574\n",
      "           1       0.99      0.98      0.99       596\n",
      "           2       0.83      0.83      0.83       573\n",
      "           3       0.91      0.94      0.93       624\n",
      "           4       0.86      0.85      0.86       635\n",
      "           5       0.98      0.96      0.97       632\n",
      "           6       0.76      0.70      0.73       600\n",
      "           7       0.94      0.97      0.95       604\n",
      "           8       0.95      0.98      0.97       598\n",
      "           9       0.97      0.95      0.96       564\n",
      "\n",
      "    accuracy                           0.90      6000\n",
      "   macro avg       0.90      0.90      0.90      6000\n",
      "weighted avg       0.90      0.90      0.90      6000\n",
      "\n",
      "SVM Time: 67.74 minute\n"
     ]
    }
   ],
   "source": [
    "start = time.time()\n",
    "\n",
    "param_grid = {'C': [0.1, 1, 8], 'kernel': ['rbf'],\n",
    "               'gamma': ['scale', 'auto']}\n",
    "svc = SVC(**param_grid, probability=True)\n",
    "\n",
    "grid_search = GridSearchCV(svc, param_grid, scoring ='accuracy', cv=2) # cv -> 교차검증을 위한 fold 횟수\n",
    "grid_search.fit(X_train_PCA1, label_train)\n",
    "\n",
    "best_params = grid_search.best_params_\n",
    "print(\"best parameters:\",grid_search.best_params_)\n",
    "best_svc = grid_search.best_estimator_\n",
    "\n",
    "\n",
    "# 정확도 평가\n",
    "train_pred = best_svc.predict(X_train_PCA1)\n",
    "val_pred = best_svc.predict(X_val_PCA1)\n",
    "# X_test_pca\n",
    "svc_train = metrics.accuracy_score(label_train,train_pred)\n",
    "svc_accuracy = metrics.accuracy_score(label_val, val_pred)\n",
    "\n",
    "print(\"Train Accuracy score: {}\".format(svc_train))\n",
    "print(\"Validation Accuracy score: {}\".format(svc_accuracy))\n",
    "print(metrics.classification_report(label_val, val_pred))\n",
    "\n",
    "end = time.time()\n",
    "svm_time = end-start\n",
    "print(\"SVM Time: {:0.2f} minute\".format(svm_time/60.0))"
   ]
  },
  {
   "cell_type": "markdown",
   "metadata": {},
   "source": [
    "# Ensemble"
   ]
  },
  {
   "cell_type": "code",
   "execution_count": 6,
   "metadata": {},
   "outputs": [],
   "source": [
    "# svm_model1 = SVC(kernel='linear', C=1.0, random_state=42)\n",
    "# svm_model2 = SVC(kernel='rbf', C=1.0, gamma='scale', random_state=42)\n",
    "# svm_model3 = SVC(kernel='poly', degree=3, C=1.0, random_state=42)\n",
    "\n",
    "# # Create a VotingClassifier with the individual models\n",
    "# voting_classifier = VotingClassifier(estimators=[\n",
    "#     ('linear_svm', svm_model1),\n",
    "#     ('rbf_svm', svm_model2),\n",
    "#     ('poly_svm', svm_model3)\n",
    "# ], voting='hard')  # 'hard' for majority voting, 'soft' for weighted voting based on confidence scores\n"
   ]
  },
  {
   "cell_type": "markdown",
   "metadata": {},
   "source": [
    "## Apply To Test Data"
   ]
  },
  {
   "cell_type": "code",
   "execution_count": 7,
   "metadata": {},
   "outputs": [],
   "source": [
    "test_pred = best_svc.predict(test_PCA)\n",
    "# 자르는게 맞는지?\n",
    "# clip = test_pred[:10000]\n",
    "with open(\"./mAP/testResult.txt\", \"w\") as f:\n",
    "    for f_name, prediction in zip(file_names,test_pred):\n",
    "        f_name = f_name.replace(\".png\",\"\")\n",
    "        f.write(f\"{f_name} {prediction}\\n\")\n",
    "\n",
    "\n",
    "# 추가할 것\n",
    "# data augumentation\n",
    "# ensemble"
   ]
  }
 ],
 "metadata": {
  "kernelspec": {
   "display_name": "Python 3",
   "language": "python",
   "name": "python3"
  },
  "language_info": {
   "codemirror_mode": {
    "name": "ipython",
    "version": 3
   },
   "file_extension": ".py",
   "mimetype": "text/x-python",
   "name": "python",
   "nbconvert_exporter": "python",
   "pygments_lexer": "ipython3",
   "version": "3.11.2"
  }
 },
 "nbformat": 4,
 "nbformat_minor": 2
}
