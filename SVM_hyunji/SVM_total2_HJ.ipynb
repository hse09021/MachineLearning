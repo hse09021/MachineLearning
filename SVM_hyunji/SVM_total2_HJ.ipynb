{
 "cells": [
  {
   "cell_type": "markdown",
   "metadata": {},
   "source": [
    "https://code-code.tistory.com/16\n",
    "- 여기서 xgboost 설치"
   ]
  },
  {
   "cell_type": "code",
   "execution_count": 1,
   "metadata": {},
   "outputs": [],
   "source": [
    "import numpy as np\n",
    "import pandas as pd\n",
    "\n",
    "from sklearn.preprocessing import StandardScaler\n",
    "from sklearn.decomposition import PCA\n",
    "from sklearn import svm\n",
    "from sklearn.linear_model import LogisticRegression\n",
    "from sklearn.tree import DecisionTreeClassifier\n",
    "from sklearn import ensemble\n",
    "from xgboost import XGBClassifier\n",
    "from sklearn.metrics import accuracy_score, confusion_matrix\n",
    "\n",
    "from sklearn.model_selection import train_test_split\n",
    "import time\n",
    "import os"
   ]
  },
  {
   "cell_type": "code",
   "execution_count": 2,
   "metadata": {},
   "outputs": [],
   "source": [
    "import warnings\n",
    "warnings.filterwarnings(action='ignore', category=UserWarning)"
   ]
  },
  {
   "cell_type": "code",
   "execution_count": 3,
   "metadata": {},
   "outputs": [],
   "source": [
    "data_dir = \"./private_data/merged_result_data_shift_half_1/data\"\n",
    "file_names = [f for f in os.listdir(data_dir) if os.path.isfile(os.path.join(data_dir, f))]\n",
    "\n",
    "train_df = pd.read_csv('./archive/fashion-mnist_train.csv', sep=',')\n",
    "test_df = pd.read_csv('./archive/fashion-mnist_test.csv', sep=',')\n",
    "private_df = pd.read_csv('./Private_data_csv/Private_data/Private_data.csv', sep=',')\n",
    "\n",
    "train_data = np.array(train_df, dtype = 'float32')\n",
    "test_data = np.array(test_df, dtype = 'float32')\n",
    "private_data = np.array(private_df, dtype = 'float32')\n",
    "\n",
    "X_train = train_data[:, 1:] # 학습데이터\n",
    "y_train = train_data[:, 0] # 학습데이터의 정답 레이블\n",
    "\n",
    "X_test = test_data[:, 1:] # 테스트데이터\n",
    "y_test = test_data[:, 0] # 테스트데이터의 정답 레이블"
   ]
  },
  {
   "cell_type": "markdown",
   "metadata": {},
   "source": [
    "### 정규화 및 PCA"
   ]
  },
  {
   "cell_type": "code",
   "execution_count": 4,
   "metadata": {},
   "outputs": [],
   "source": [
    "stdscaler = StandardScaler()\n",
    "X_train_scale = stdscaler.fit_transform(X_train)\n",
    "X_test_scale = stdscaler.transform(X_test)\n",
    "private_scale = stdscaler.transform(private_data)\n",
    "\n",
    "pca = PCA(n_components=187, random_state=42)\n",
    "X_train_pca = pca.fit_transform(X_train_scale)\n",
    "X_test_pca = pca.transform(X_test_scale)\n",
    "private_pca = pca.transform(private_scale)"
   ]
  },
  {
   "cell_type": "markdown",
   "metadata": {},
   "source": [
    "### 혼성모델"
   ]
  },
  {
   "cell_type": "code",
   "execution_count": 5,
   "metadata": {},
   "outputs": [],
   "source": [
    "logi = LogisticRegression(max_iter=200, solver='liblinear')\n",
    "svm_rbf = svm.SVC(C=13, kernel='rbf', gamma='auto', probability=True)\n",
    "RF = ensemble.RandomForestClassifier(criterion='entropy', max_depth=70, n_estimators=100)\n",
    "Gboost = ensemble.GradientBoostingClassifier(n_estimators=100)\n",
    "XGB = XGBClassifier(use_label_encoder=False, objective='multi:softmax', eval_metric='merror')"
   ]
  },
  {
   "cell_type": "code",
   "execution_count": 12,
   "metadata": {},
   "outputs": [
    {
     "name": "stdout",
     "output_type": "stream",
     "text": [
      "voting(최적 SVM, linearSVM, 결정트리) 정확도 0.8861\n"
     ]
    }
   ],
   "source": [
    "vote5_hard = ensemble.VotingClassifier([('logistic',logi),\n",
    "                                  ('svm_rbf',svm_rbf),\n",
    "                                  ('RandomForest',RF),\n",
    "                                  ('Gradient_B',Gboost),\n",
    "                                  ('XGB', XGB)],\n",
    "                                  voting='hard',\n",
    "                                  n_jobs=4, verbose=True)\n",
    "\n",
    "vote5_hard.fit(X_train_pca, y_train)\n",
    "vote5_hard_y_pred = vote5_hard.predict(X_test_pca)\n",
    "vote5_hard_acc = accuracy_score(y_test, vote5_hard_y_pred)\n",
    "print(\"voting(최적 SVM, linearSVM, 결정트리) 정확도\", vote5_hard_acc)\n",
    "\n",
    "# 각 test 샘플의 예측 결과를 텍스트 파일에 저장\n",
    "result_file_path = 'testRsult_Vote5_hard_y.txt'\n",
    "\n",
    "with open(result_file_path, \"w\") as f:\n",
    "    for f_name, prediction in zip(file_names, vote5_hard_y_pred):\n",
    "        prediction = int(prediction)\n",
    "        f_name = f_name.replace(\".png\",\"\")\n",
    "        f.write(f\"{f_name} {prediction}\\n\")"
   ]
  },
  {
   "cell_type": "code",
   "execution_count": 13,
   "metadata": {},
   "outputs": [],
   "source": [
    "# 각 private 샘플의 예측 결과를 텍스트 파일에 저장\n",
    "vote5_hard_pivate = vote5_hard.predict(private_pca)\n",
    "result_file_path = 'testRsult_Vote5_hard_private.txt'\n",
    "\n",
    "with open(result_file_path, \"w\") as f:\n",
    "    for f_name, prediction in zip(file_names, vote5_hard_pivate):\n",
    "        prediction = int(prediction)\n",
    "        f_name = f_name.replace(\".png\",\"\")\n",
    "        f.write(f\"{f_name} {prediction}\\n\")"
   ]
  },
  {
   "cell_type": "code",
   "execution_count": null,
   "metadata": {},
   "outputs": [],
   "source": [
    "logi = LogisticRegression(max_iter=200, solver='liblinear')\n",
    "svm_rbf = svm.SVC(C=13, kernel='rbf', gamma='auto', probability=True)\n",
    "RF = ensemble.RandomForestClassifier(criterion='entropy', max_depth=70, n_estimators=100)\n",
    "Gboost = ensemble.GradientBoostingClassifier(n_estimators=100)\n",
    "XGB = XGBClassifier(use_label_encoder=False, objective='multi:softmax', eval_metric='merror')"
   ]
  },
  {
   "cell_type": "code",
   "execution_count": null,
   "metadata": {},
   "outputs": [],
   "source": [
    "vote5_soft = ensemble.VotingClassifier([('logistic',logi),\n",
    "                                  ('RandomForest',RF),\n",
    "                                  ('Gradient_B',Gboost),\n",
    "                                  ('XGB', XGB),\n",
    "                                  ('svm_rbf',svm_rbf)],\n",
    "                                  voting='soft',\n",
    "                                  n_jobs=3, verbose=True)\n",
    "\n",
    "vote5_soft.fit(X_train_pca, y_train)\n",
    "vote5_soft_y_pred = vote5_soft.predict(X_test_pca)\n",
    "vote5_soft_acc = accuracy_score(y_test, vote5_soft_y_pred)\n",
    "print(\"voting(최적 SVM, linearSVM, 결정트리) 정확도\", vote5_soft_acc)\n",
    "\n",
    "# 각 test 샘플의 예측 결과를 텍스트 파일에 저장\n",
    "result_file_path = 'testRsult_Vote5_soft_y.txt'\n",
    "\n",
    "with open(result_file_path, \"w\") as f:\n",
    "    for f_name, prediction in zip(file_names, vote5_soft_y_pred):\n",
    "        prediction = int(prediction)\n",
    "        f_name = f_name.replace(\".png\",\"\")\n",
    "        f.write(f\"{f_name} {prediction}\\n\")"
   ]
  },
  {
   "cell_type": "code",
   "execution_count": null,
   "metadata": {},
   "outputs": [],
   "source": [
    "# 각 private 샘플의 예측 결과를 텍스트 파일에 저장\n",
    "vote5_soft_pivate = vote5_soft.predict(private_pca)\n",
    "result_file_path = 'testRsult_Vote5_soft_private.txt'\n",
    "\n",
    "with open(result_file_path, \"w\") as f:\n",
    "    for f_name, prediction in zip(file_names, vote5_hard_pivate):\n",
    "        prediction = int(prediction)\n",
    "        f_name = f_name.replace(\".png\",\"\")\n",
    "        f.write(f\"{f_name} {prediction}\\n\")"
   ]
  },
  {
   "cell_type": "code",
   "execution_count": 3,
   "metadata": {},
   "outputs": [],
   "source": [
    "# 파일 열기 (읽기 모드로 열기)\n",
    "with open('./testRsult_Vote5_hard_private.txt', 'r') as file:\n",
    "    lines = file.readlines()  # 파일 내용을 모두 읽어옴\n",
    "\n",
    "# 각 라인의 숫자를 정수로 변환\n",
    "converted_lines = []\n",
    "for line in lines:\n",
    "    parts = line.split()  # 공백을 기준으로 문자열 분리\n",
    "    if len(parts) == 2:\n",
    "        try:\n",
    "            num = int(float(parts[1]))  # 부동소수점 숫자로 변환 후 정수로 형변환\n",
    "            converted_lines.append(f\"{parts[0]} {num}\\n\")  # 변환된 값을 리스트에 추가\n",
    "        except ValueError:\n",
    "            pass  # 변환 실패 시 넘어감\n",
    "\n",
    "# 변환된 내용을 파일에 쓰기\n",
    "with open('./testResult_Vote5_hard_private2.txt', 'w') as file:\n",
    "    file.writelines(converted_lines)  # 변환된 내용을 파일에 쓰기"
   ]
  },
  {
   "cell_type": "code",
   "execution_count": null,
   "metadata": {},
   "outputs": [],
   "source": []
  }
 ],
 "metadata": {
  "kernelspec": {
   "display_name": "base",
   "language": "python",
   "name": "python3"
  },
  "language_info": {
   "codemirror_mode": {
    "name": "ipython",
    "version": 3
   },
   "file_extension": ".py",
   "mimetype": "text/x-python",
   "name": "python",
   "nbconvert_exporter": "python",
   "pygments_lexer": "ipython3",
   "version": "3.8.5"
  }
 },
 "nbformat": 4,
 "nbformat_minor": 2
}
