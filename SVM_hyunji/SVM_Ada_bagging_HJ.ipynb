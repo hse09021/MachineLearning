{
 "cells": [
  {
   "cell_type": "code",
   "execution_count": 4,
   "metadata": {},
   "outputs": [],
   "source": [
    "import pandas as pd\n",
    "import numpy as np\n",
    "\n",
    "from sklearn.pipeline import Pipeline\n",
    "from sklearn.preprocessing import StandardScaler\n",
    "from sklearn.decomposition import PCA\n",
    "from sklearn import svm\n",
    "from sklearn.ensemble import AdaBoostClassifier, BaggingClassifier\n",
    "from sklearn.metrics import accuracy_score\n",
    "\n",
    "from sklearn.model_selection import train_test_split"
   ]
  },
  {
   "cell_type": "code",
   "execution_count": 5,
   "metadata": {},
   "outputs": [],
   "source": [
    "train_df = pd.read_csv('./archive/fashion-mnist_train.csv', sep=',')\n",
    "test_df = pd.read_csv('./archive/fashion-mnist_test.csv', sep=',')\n",
    "train_data = np.array(train_df, dtype = 'float32')\n",
    "test_data = np.array(test_df, dtype = 'float32')\n",
    "\n",
    "X_train = train_data[:, 1:] # 학습데이터\n",
    "y_train = train_data[:, 0] # 학습데이터의 정답 레이블\n",
    "\n",
    "X_test = test_data[:, 1:] # 테스트데이터\n",
    "y_test = test_data[:, 0] # 테스트데이터의 정답 레이블"
   ]
  },
  {
   "cell_type": "markdown",
   "metadata": {},
   "source": [
    "### 정규화 및 차원 축소"
   ]
  },
  {
   "cell_type": "code",
   "execution_count": 6,
   "metadata": {},
   "outputs": [],
   "source": [
    "X_train = StandardScaler().fit_transform(X_train)\n",
    "X_test = StandardScaler().fit_transform(X_test)\n",
    "\n",
    "pca = PCA(n_components=256, random_state=42)\n",
    "X_train_pca = pca.fit_transform(X_train)\n",
    "X_test_pca = pca.fit_transform(X_test)"
   ]
  },
  {
   "cell_type": "markdown",
   "metadata": {},
   "source": [
    "### AdaBoost(SVM 기반)"
   ]
  },
  {
   "cell_type": "code",
   "execution_count": null,
   "metadata": {},
   "outputs": [],
   "source": [
    "svm_linear = svm.SVC(C=1, kernel='linear', probability=True)\n",
    "ada1 = AdaBoostClassifier(svm_linear, n_estimators=6, random_state=42)\n",
    "\n",
    "ada1.fit(X_train_pca, y_train)\n",
    "y_pred = ada1.predict(X_test_pca)\n",
    "ada1_acc = accuracy_score(y_test, y_pred)\n",
    "print(\"AdaBoost(SVM_linear 기반) 정확도\", ada1_acc)"
   ]
  },
  {
   "cell_type": "code",
   "execution_count": null,
   "metadata": {},
   "outputs": [],
   "source": [
    "svm_poly = svm.SVC(C=1, kernel='poly', probability=True)\n",
    "ada2 = AdaBoostClassifier(svm_poly, n_estimators=6, random_state=42)\n",
    "\n",
    "ada2.fit(X_train_pca, y_train)\n",
    "y_pred = ada2.predict(X_test_pca)\n",
    "ada2_acc = accuracy_score(y_test, y_pred)\n",
    "print(\"AdaBoost(SVM_poly 기반) 정확도\", ada2_acc)"
   ]
  },
  {
   "cell_type": "code",
   "execution_count": 7,
   "metadata": {},
   "outputs": [],
   "source": [
    "svm_rbf = svm.SVC(C=1, kernel='rbf', probability=True)\n",
    "ada3 = AdaBoostClassifier(svm_rbf, n_estimators=6, random_state=42)\n",
    "\n",
    "ada3.fit(X_train_pca, y_train)\n",
    "y_pred = ada3.predict(X_test_pca)\n",
    "ada3_acc = accuracy_score(y_test, y_pred)\n",
    "print(\"AdaBoost(SVM_rbf 기반) 정확도\", ada3_acc)"
   ]
  },
  {
   "cell_type": "markdown",
   "metadata": {},
   "source": [
    "### Bagging(SVM 기반)"
   ]
  },
  {
   "cell_type": "code",
   "execution_count": null,
   "metadata": {},
   "outputs": [],
   "source": [
    "svm_rbf = svm.SVC(C=1, kernel='rbf', probability=True)\n",
    "bag1 = BaggingClassifier(svm_rbf, 6, random_state=42)\n",
    "bag1.fit(X_train_pca, y_train)\n",
    "y_pred = bag1.predict(X_test_pca)\n",
    "bag1_acc = accuracy_score(y_test, y_pred)\n",
    "print(\"AdaBoost(SVM_rbf 기반) 정확도\", bag1_acc)"
   ]
  }
 ],
 "metadata": {
  "kernelspec": {
   "display_name": "base",
   "language": "python",
   "name": "python3"
  },
  "language_info": {
   "codemirror_mode": {
    "name": "ipython",
    "version": 3
   },
   "file_extension": ".py",
   "mimetype": "text/x-python",
   "name": "python",
   "nbconvert_exporter": "python",
   "pygments_lexer": "ipython3",
   "version": "3.8.5"
  }
 },
 "nbformat": 4,
 "nbformat_minor": 2
}
