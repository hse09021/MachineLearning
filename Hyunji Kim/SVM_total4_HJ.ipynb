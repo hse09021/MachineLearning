{
 "cells": [
  {
   "cell_type": "code",
   "execution_count": null,
   "metadata": {},
   "outputs": [],
   "source": [
    "import numpy as np\n",
    "import pandas as pd\n",
    "\n",
    "from sklearn.preprocessing import StandardScaler\n",
    "from sklearn.decomposition import PCA\n",
    "from sklearn import svm\n",
    "from sklearn.linear_model import LogisticRegression\n",
    "from sklearn.tree import DecisionTreeClassifier\n",
    "from sklearn import ensemble\n",
    "from xgboost import XGBClassifier\n",
    "from sklearn.metrics import accuracy_score, confusion_matrix\n",
    "\n",
    "from sklearn.model_selection import train_test_split\n",
    "import time\n",
    "import os"
   ]
  },
  {
   "cell_type": "code",
   "execution_count": null,
   "metadata": {},
   "outputs": [],
   "source": [
    "import warnings\n",
    "warnings.filterwarnings(action='ignore', category=UserWarning)"
   ]
  },
  {
   "cell_type": "code",
   "execution_count": null,
   "metadata": {},
   "outputs": [],
   "source": [
    "data_dir = \"./private_data/merged_result_data_shift_half_1/data\"\n",
    "file_names = [f for f in os.listdir(data_dir) if os.path.isfile(os.path.join(data_dir, f))]\n",
    "\n",
    "train_df = pd.read_csv('./archive/fashion-mnist_train.csv', sep=',')\n",
    "test_df = pd.read_csv('./archive/fashion-mnist_test.csv', sep=',')\n",
    "private_df = pd.read_csv('./Private_data_csv/Private_data/Private_data.csv', sep=',')\n",
    "\n",
    "train_data = np.array(train_df, dtype = 'float32')\n",
    "test_data = np.array(test_df, dtype = 'float32')\n",
    "private_data = np.array(private_df, dtype = 'float32')\n",
    "\n",
    "X_train = train_data[:, 1:] # 학습데이터\n",
    "y_train = train_data[:, 0] # 학습데이터의 정답 레이블\n",
    "\n",
    "X_test = test_data[:, 1:] # 테스트데이터\n",
    "y_test = test_data[:, 0] # 테스트데이터의 정답 레이블"
   ]
  },
  {
   "cell_type": "code",
   "execution_count": null,
   "metadata": {},
   "outputs": [],
   "source": [
    "stdscaler = StandardScaler()\n",
    "X_train_scale = stdscaler.fit_transform(X_train)\n",
    "X_test_scale = stdscaler.transform(X_test)\n",
    "private_scale = stdscaler.transform(private_data)\n",
    "\n",
    "pca = PCA(n_components=187, random_state=42)\n",
    "X_train_pca = pca.fit_transform(X_train_scale)\n",
    "X_test_pca = pca.transform(X_test_scale)\n",
    "private_pca = pca.transform(private_scale)"
   ]
  },
  {
   "cell_type": "code",
   "execution_count": null,
   "metadata": {},
   "outputs": [],
   "source": [
    "logi = LogisticRegression(max_iter=200, solver='liblinear')\n",
    "svm_rbf = svm.SVC(C=13, kernel='rbf', gamma='auto', probability=True)\n",
    "RF = ensemble.RandomForestClassifier(criterion='entropy', max_depth=70, n_estimators=100)\n",
    "Gboost = ensemble.GradientBoostingClassifier(n_estimators=100)\n",
    "XGB = XGBClassifier(use_label_encoder=False, objective='multi:softmax', eval_metric='merror')"
   ]
  },
  {
   "cell_type": "code",
   "execution_count": null,
   "metadata": {},
   "outputs": [
    {
     "name": "stdout",
     "output_type": "stream",
     "text": [
      "voting(logistic,RF,GradientBoost,최적svm) 정확도 0.8927\n"
     ]
    }
   ],
   "source": [
    "vote4_soft = ensemble.VotingClassifier([('logistic',logi),\n",
    "                                  ('RandomForest',RF),\n",
    "                                  ('Gradient_B',Gboost),\n",
    "                                  ('svm_rbf',svm_rbf)],\n",
    "                                  voting='soft',\n",
    "                                  n_jobs=3, verbose=True)\n",
    "\n",
    "vote4_soft.fit(X_train_pca, y_train)\n",
    "vote4_soft_y_pred = vote4_soft.predict(X_test_pca)\n",
    "vote4_soft_acc = accuracy_score(y_test, vote4_soft_y_pred)\n",
    "print(\"voting(logistic,RF,GradientBoost,최적svm) 정확도\", vote4_soft_acc)\n",
    "\n",
    "# 각 test 샘플의 예측 결과를 텍스트 파일에 저장\n",
    "result_file_path = 'testRsult_Vote4_soft_y.txt'\n",
    "\n",
    "with open(result_file_path, \"w\") as f:\n",
    "    for f_name, prediction in zip(file_names, vote4_soft_y_pred):\n",
    "        prediction = int(prediction)\n",
    "        f_name = f_name.replace(\".png\",\"\")\n",
    "        f.write(f\"{f_name} {prediction}\\n\")"
   ]
  },
  {
   "cell_type": "code",
   "execution_count": null,
   "metadata": {},
   "outputs": [],
   "source": [
    "# 각 private 샘플의 예측 결과를 텍스트 파일에 저장\n",
    "vote4_soft_pivate = vote4_soft.predict(private_pca)\n",
    "result_file_path = 'testRsult_Vote4_soft_private.txt'\n",
    "\n",
    "with open(result_file_path, \"w\") as f:\n",
    "    for f_name, prediction in zip(file_names, vote4_soft_pivate):\n",
    "        prediction = int(prediction)\n",
    "        f_name = f_name.replace(\".png\",\"\")\n",
    "        f.write(f\"{f_name} {prediction}\\n\")"
   ]
  },
  {
   "cell_type": "code",
   "execution_count": null,
   "metadata": {},
   "outputs": [],
   "source": []
  }
 ],
 "metadata": {
  "language_info": {
   "name": "python"
  }
 },
 "nbformat": 4,
 "nbformat_minor": 2
}
