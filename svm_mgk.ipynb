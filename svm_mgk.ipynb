{
 "cells": [
  {
   "cell_type": "code",
   "execution_count": null,
   "metadata": {},
   "outputs": [],
   "source": [
    "import numpy as np\n",
    "import pandas as pd\n",
    "import os"
   ]
  },
  {
   "cell_type": "code",
   "execution_count": null,
   "metadata": {},
   "outputs": [],
   "source": [
    "from sklearn.metrics import accuracy_score\n",
    "import matplotlib.pyplot as plt\n",
    "import seaborn as sns\n",
    "import plotly.graph_objects as go\n",
    "from sklearn.metrics import confusion_matrix\n",
    "from sklearn import metrics\n",
    "from sklearn.preprocessing import MinMaxScaler\n",
    "from sklearn.decomposition import PCA\n",
    "from sklearn.linear_model import LogisticRegression\n",
    "from sklearn.svm import SVC\n",
    "from sklearn.ensemble import RandomForestClassifier\n",
    "from sklearn import ensemble\n",
    "from xgboost import XGBClassifier\n",
    "from lightgbm import LGBMClassifier\n",
    "import time"
   ]
  },
  {
   "cell_type": "code",
   "execution_count": null,
   "metadata": {},
   "outputs": [],
   "source": [
    "import warnings\n",
    "warnings.filterwarnings(action='ignore', category=UserWarning)"
   ]
  },
  {
   "cell_type": "code",
   "execution_count": null,
   "metadata": {},
   "outputs": [],
   "source": [
    "train = pd.read_csv('./archive/fashion-mnist_train.csv')\n",
    "test = pd.read_csv('./archive/fashion-mnist_test.csv')\n",
    "public = pd.read_csv('./archive/fashion-mnist_public.csv')\n",
    "private = pd.read_csv('./archive/fashion-mnist_private.csv')"
   ]
  },
  {
   "cell_type": "code",
   "execution_count": null,
   "metadata": {},
   "outputs": [],
   "source": [
    "X_train = train.drop(['label'], axis = 1)\n",
    "X_train"
   ]
  },
  {
   "cell_type": "code",
   "execution_count": null,
   "metadata": {},
   "outputs": [],
   "source": [
    "X_train.shape"
   ]
  },
  {
   "cell_type": "code",
   "execution_count": null,
   "metadata": {},
   "outputs": [],
   "source": [
    "y_train = train['label']\n",
    "y_train"
   ]
  },
  {
   "cell_type": "code",
   "execution_count": null,
   "metadata": {},
   "outputs": [],
   "source": [
    "y_train.shape"
   ]
  },
  {
   "cell_type": "code",
   "execution_count": null,
   "metadata": {},
   "outputs": [],
   "source": [
    "X_test = test.drop(['label'], axis = 1)\n",
    "X_test"
   ]
  },
  {
   "cell_type": "code",
   "execution_count": null,
   "metadata": {},
   "outputs": [],
   "source": [
    "X_test.shape"
   ]
  },
  {
   "cell_type": "code",
   "execution_count": null,
   "metadata": {},
   "outputs": [],
   "source": [
    "y_test = test['label']\n",
    "y_test"
   ]
  },
  {
   "cell_type": "code",
   "execution_count": null,
   "metadata": {},
   "outputs": [],
   "source": [
    "y_test.shape"
   ]
  },
  {
   "cell_type": "code",
   "execution_count": null,
   "metadata": {},
   "outputs": [],
   "source": [
    "X_public = public.drop(['label'], axis = 1)\n",
    "X_public"
   ]
  },
  {
   "cell_type": "code",
   "execution_count": null,
   "metadata": {},
   "outputs": [],
   "source": [
    "y_public = public['label']"
   ]
  },
  {
   "cell_type": "code",
   "execution_count": null,
   "metadata": {},
   "outputs": [],
   "source": [
    "y_public.shape"
   ]
  },
  {
   "cell_type": "code",
   "execution_count": null,
   "metadata": {},
   "outputs": [],
   "source": [
    "scaler = MinMaxScaler()\n",
    "X_train_scale = scaler.fit_transform(X_train)\n",
    "X_test_scale = scaler.transform(X_test)\n",
    "X_public_scale = scaler.transform(public)\n",
    "private_scale = scaler.transform(private)"
   ]
  },
  {
   "cell_type": "code",
   "execution_count": null,
   "metadata": {},
   "outputs": [],
   "source": [
    "pca = PCA(n_components=187, random_state=42)\n",
    "X_train_pca = pca.fit_transform(X_train_scale)\n",
    "X_test_pca = pca.transform(X_test_scale)\n",
    "X_public_pca = pca.transform(X_public_scale)\n",
    "private_pca = pca.transform(private_scale)"
   ]
  },
  {
   "cell_type": "code",
   "execution_count": null,
   "metadata": {},
   "outputs": [],
   "source": [
    "X_train_pca.shape"
   ]
  },
  {
   "cell_type": "code",
   "execution_count": null,
   "metadata": {},
   "outputs": [],
   "source": [
    "X_test_pca.shape"
   ]
  },
  {
   "cell_type": "code",
   "execution_count": null,
   "metadata": {},
   "outputs": [],
   "source": [
    "X_public_pca.shape"
   ]
  },
  {
   "cell_type": "code",
   "execution_count": null,
   "metadata": {},
   "outputs": [],
   "source": [
    "private_pca.shape"
   ]
  },
  {
   "cell_type": "code",
   "execution_count": null,
   "metadata": {},
   "outputs": [],
   "source": [
    "X_train_PCA1 = pd.DataFrame(X_train_pca)\n",
    "X_test_PCA1 = pd.DataFrame(X_test_pca)"
   ]
  },
  {
   "cell_type": "code",
   "execution_count": null,
   "metadata": {},
   "outputs": [],
   "source": [
    "# 1. LR Model\n",
    "logistic = LogisticRegression(max_iter=200, solver='liblinear')\n",
    "logistic.fit(X_train_PCA1, y_train)"
   ]
  },
  {
   "cell_type": "code",
   "execution_count": null,
   "metadata": {},
   "outputs": [],
   "source": [
    "# 2. SVC Model\n",
    "svc = SVC(C=13, kernel='rbf', gamma=\"auto\", probability=True)\n",
    "svc.fit(X_train_PCA1, y_train)"
   ]
  },
  {
   "cell_type": "code",
   "execution_count": null,
   "metadata": {},
   "outputs": [],
   "source": [
    "# 3. Random Forest\n",
    "random_forest = RandomForestClassifier(criterion='entropy', max_depth=70, n_estimators=100)\n",
    "random_forest.fit(X_train_PCA1, y_train)"
   ]
  },
  {
   "cell_type": "code",
   "execution_count": null,
   "metadata": {},
   "outputs": [],
   "source": [
    "# 4. Gradient Boosting Method \n",
    "Gradient = ensemble.GradientBoostingClassifier(n_estimators=100)\n",
    "Gradient.fit(X_train_PCA1, y_train)"
   ]
  },
  {
   "cell_type": "code",
   "execution_count": null,
   "metadata": {},
   "outputs": [],
   "source": [
    "# 5. XGBoost Method\n",
    "xgb = XGBClassifier(use_label_encoder=False, objective=\"multi:softmax\", eval_metric=\"merror\")\n",
    "xgb.fit(X_train_PCA1, y_train)"
   ]
  },
  {
   "cell_type": "code",
   "execution_count": null,
   "metadata": {},
   "outputs": [],
   "source": [
    "# 6. lightGBM Method\n",
    "lgbm = LGBMClassifier(boosting_type='gbdt', objective='multiclass', num_class=10, num_iterations=100, max_depth=4, learning_rate = 0.01, n_estimators=100, nthreads=4, silent=False, boost_from_average=True)\n",
    "lgbm.fit(X_train_PCA1, y_train)"
   ]
  },
  {
   "cell_type": "code",
   "execution_count": null,
   "metadata": {},
   "outputs": [],
   "source": [
    "y_train_lr = logistic.predict(X_train_PCA1)\n",
    "y_pred_lr = logistic.predict(X_test_pca)\n",
    "logistic_train = metrics.accuracy_score(y_train, y_train_lr)\n",
    "logistic_accuracy = metrics.accuracy_score(y_test, y_pred_lr)\n",
    "\n",
    "print(\"Train Accuracy score: {}\".format(logistic_train))\n",
    "print(\"Test Accuracy score: {}\".format(logistic_accuracy))\n",
    "print(metrics.classification_report(y_test, y_pred_lr))"
   ]
  },
  {
   "cell_type": "code",
   "execution_count": null,
   "metadata": {},
   "outputs": [],
   "source": [
    "con_matrix = pd.crosstab(pd.Series(y_test.values.flatten(), name='Actual'), pd.Series(y_pred_lr, name='Predicted'))\n",
    "plt.figure(figsize = (9,6))\n",
    "plt.title(\"Confusion Matrix on Logistic Regression\")\n",
    "sns.heatmap(con_matrix, cmap=\"Blues\", annot=True, fmt='g')\n",
    "plt.show()"
   ]
  },
  {
   "cell_type": "code",
   "execution_count": null,
   "metadata": {},
   "outputs": [],
   "source": [
    "y_train_svc = svc.predict(X_train_PCA1)\n",
    "y_pred_svc = svc.predict(X_test_pca)\n",
    "svc_train = metrics.accuracy_score(y_train, y_train_svc)\n",
    "svc_accuracy = metrics.accuracy_score(y_test, y_pred_svc)\n",
    "\n",
    "print(\"Train Accuracy score: {}\".format(svc_train))\n",
    "print(\"Test Accuracy score: {}\".format(svc_accuracy))\n",
    "print(metrics.classification_report(y_test, y_pred_svc))"
   ]
  },
  {
   "cell_type": "code",
   "execution_count": null,
   "metadata": {},
   "outputs": [],
   "source": [
    "con_matrix = pd.crosstab(pd.Series(y_test.values.flatten(), name='Actual'), pd.Series(y_pred_svc, name='Predicted'))\n",
    "plt.figure(figsize = (9,6))\n",
    "plt.title(\"Confusion Matrix on SVC\")\n",
    "sns.heatmap(con_matrix, cmap=\"Blues\", annot=True, fmt='g')\n",
    "plt.show()"
   ]
  },
  {
   "cell_type": "code",
   "execution_count": null,
   "metadata": {},
   "outputs": [],
   "source": [
    "y_train_forest = random_forest.predict(X_train_PCA1)\n",
    "y_pred_forest = random_forest.predict(X_test_pca)\n",
    "random_forest_train = metrics.accuracy_score(y_train, y_train_forest)\n",
    "random_forest_accuracy = metrics.accuracy_score(y_test, y_pred_forest)\n",
    "\n",
    "print(\"Train Accuracy score: {}\".format(random_forest_train))\n",
    "print(\"Test Accuracy score: {}\".format(random_forest_accuracy))\n",
    "print(metrics.classification_report(y_test, y_pred_forest))"
   ]
  },
  {
   "cell_type": "code",
   "execution_count": null,
   "metadata": {},
   "outputs": [],
   "source": [
    "con_matrix = pd.crosstab(pd.Series(y_test.values.flatten(), name='Actual'), pd.Series(y_pred_forest, name='Predicted'))\n",
    "plt.figure(figsize = (9,6))\n",
    "plt.title(\"Confusion Matrix on Random Forest\")\n",
    "sns.heatmap(con_matrix, cmap=\"Blues\", annot=True, fmt='g')\n",
    "plt.show()"
   ]
  },
  {
   "cell_type": "code",
   "execution_count": null,
   "metadata": {},
   "outputs": [],
   "source": [
    "y_train_gradient = Gradient.predict(X_train_PCA1)\n",
    "y_pred_gradient = Gradient.predict(X_test_pca)\n",
    "gradient_train = metrics.accuracy_score(y_train, y_train_gradient)\n",
    "gradient_accuracy = metrics.accuracy_score(y_test, y_pred_gradient)\n",
    "\n",
    "print(\"Train Accuracy score: {}\".format(gradient_train))\n",
    "print(\"Test Accuracy score: {}\".format(gradient_accuracy))\n",
    "print(metrics.classification_report(y_test, y_pred_gradient))"
   ]
  },
  {
   "cell_type": "code",
   "execution_count": null,
   "metadata": {},
   "outputs": [],
   "source": [
    "con_matrix = pd.crosstab(pd.Series(y_test.values.flatten(), name='Actual'), pd.Series(y_pred_gradient, name='Predicted'))\n",
    "plt.figure(figsize = (9,6))\n",
    "plt.title(\"Confusion Matrix on Gradient Boosting\")\n",
    "sns.heatmap(con_matrix, cmap=\"Blues\", annot=True, fmt='g')\n",
    "plt.show()"
   ]
  },
  {
   "cell_type": "code",
   "execution_count": null,
   "metadata": {},
   "outputs": [],
   "source": [
    "y_train_xgboost = xgb.predict(X_train_PCA1)\n",
    "y_pred_xgboost = xgb.predict(X_test_pca)\n",
    "xgb_train = metrics.accuracy_score(y_train, y_train_xgboost)\n",
    "xgb_accuracy = metrics.accuracy_score(y_test, y_pred_xgboost)\n",
    "\n",
    "print(\"Train Accuracy score: {}\".format(xgb_train))\n",
    "print(\"Test Accuracy score: {}\".format(xgb_accuracy))\n",
    "print(metrics.classification_report(y_test, y_pred_xgboost))"
   ]
  },
  {
   "cell_type": "code",
   "execution_count": null,
   "metadata": {},
   "outputs": [],
   "source": [
    "con_matrix = pd.crosstab(pd.Series(y_test.values.flatten(), name='Actual'), pd.Series(y_pred_xgboost, name='Predicted'))\n",
    "plt.figure(figsize = (9,6))\n",
    "plt.title(\"Confusion Matrix on XGBoost\")\n",
    "sns.heatmap(con_matrix, cmap=\"Blues\", annot=True, fmt='g')\n",
    "plt.show()"
   ]
  },
  {
   "cell_type": "code",
   "execution_count": null,
   "metadata": {},
   "outputs": [],
   "source": [
    "y_train_lgbm = lgbm.predict(X_train_PCA1)\n",
    "y_pred_lgbm = lgbm.predict(X_test_pca)\n",
    "lgbm_train = metrics.accuracy_score(y_train, y_train_lgbm)\n",
    "lgbm_accuracy = metrics.accuracy_score(y_test, y_pred_lgbm)\n",
    "\n",
    "print(\"Train Accuracy score: {}\".format(lgbm_train))\n",
    "print(\"Test Accuracy score: {}\".format(lgbm_accuracy))\n",
    "print(metrics.classification_report(y_test, y_pred_lgbm))"
   ]
  },
  {
   "cell_type": "code",
   "execution_count": null,
   "metadata": {},
   "outputs": [],
   "source": [
    "con_matrix = pd.crosstab(pd.Series(y_test.values.flatten(), name='Actual'), pd.Series(y_pred_lgbm, name='Predicted'))\n",
    "plt.figure(figsize = (9,6))\n",
    "plt.title(\"Confusion Matrix on LightGBM\")\n",
    "sns.heatmap(con_matrix, cmap=\"Blues\", annot=True, fmt='g')\n",
    "plt.show()"
   ]
  },
  {
   "cell_type": "code",
   "execution_count": null,
   "metadata": {},
   "outputs": [],
   "source": [
    "Train_Accuracy = [logistic_train, svc_train, random_forest_train, gradient_train, xgb_train, lgbm_train]\n",
    "Test_Accuracy = [logistic_accuracy, svc_accuracy, random_forest_accuracy, gradient_accuracy, xgb_accuracy, lgbm_accuracy]\n",
    "data1 = {\n",
    "    'Algorithm': ['Logistic Regression','SVC','Random Forest Classifier','Gradient Boosting','XGBoost', 'LightGBM'],\n",
    "    'Train Accuracy':Train_Accuracy,\n",
    "    'Test Accuracy':Test_Accuracy\n",
    "}\n",
    "\n",
    "df1 = pd.DataFrame(data1)"
   ]
  },
  {
   "cell_type": "code",
   "execution_count": null,
   "metadata": {},
   "outputs": [],
   "source": [
    "df1"
   ]
  },
  {
   "cell_type": "code",
   "execution_count": null,
   "metadata": {},
   "outputs": [],
   "source": [
    "fig = go.Figure(data=[\n",
    "    go.Bar(name='train set', x=data1['Algorithm'], y=data1['Train Accuracy'],text=np.round(data1['Train Accuracy'],2),textposition='outside'),\n",
    "    go.Bar(name='test set', x=data1['Algorithm'], y=data1['Test Accuracy'],text=np.round(data1['Test Accuracy'],2),textposition='outside')\n",
    "])\n",
    "\n",
    "fig.update_layout(barmode='group',title_text='Accuracy Comparison On Different Models',yaxis=dict(\n",
    "        title='Accuracy'))\n",
    "fig.show()"
   ]
  }
 ],
 "metadata": {
  "kernelspec": {
   "display_name": "base",
   "language": "python",
   "name": "python3"
  },
  "language_info": {
   "codemirror_mode": {
    "name": "ipython",
    "version": 3
   },
   "file_extension": ".py",
   "mimetype": "text/x-python",
   "name": "python",
   "nbconvert_exporter": "python",
   "pygments_lexer": "ipython3",
   "version": "3.11.4"
  }
 },
 "nbformat": 4,
 "nbformat_minor": 2
}
