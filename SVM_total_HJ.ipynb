{
 "cells": [
  {
   "cell_type": "code",
   "execution_count": 8,
   "metadata": {},
   "outputs": [],
   "source": [
    "import pandas as pd\n",
    "import numpy as np\n",
    "\n",
    "from sklearn.pipeline import Pipeline\n",
    "from sklearn.preprocessing import StandardScaler\n",
    "from sklearn.decomposition import PCA\n",
    "from sklearn import svm\n",
    "from sklearn.tree import DecisionTreeClassifier\n",
    "from sklearn.ensemble import AdaBoostClassifier, BaggingClassifier, VotingClassifier, RandomForestClassifier, GradientBoostingClassifier\n",
    "from sklearn.metrics import accuracy_score\n",
    "\n",
    "from sklearn.model_selection import train_test_split"
   ]
  },
  {
   "cell_type": "code",
   "execution_count": 3,
   "metadata": {},
   "outputs": [],
   "source": [
    "train_df = pd.read_csv('./archive/fashion-mnist_train.csv', sep=',')\n",
    "test_df = pd.read_csv('./archive/fashion-mnist_test.csv', sep=',')\n",
    "train_data = np.array(train_df, dtype = 'float32')\n",
    "test_data = np.array(test_df, dtype = 'float32')\n",
    "\n",
    "X_train = train_data[:, 1:] # 학습데이터\n",
    "y_train = train_data[:, 0] # 학습데이터의 정답 레이블\n",
    "\n",
    "X_test = test_data[:, 1:] # 테스트데이터\n",
    "y_test = test_data[:, 0] # 테스트데이터의 정답 레이블"
   ]
  },
  {
   "cell_type": "markdown",
   "metadata": {},
   "source": [
    "### 정규화"
   ]
  },
  {
   "cell_type": "code",
   "execution_count": 4,
   "metadata": {},
   "outputs": [],
   "source": [
    "stdscaler = StandardScaler()\n",
    "X_train_st = stdscaler.fit_transform(X_train)\n",
    "X_test_st = stdscaler.transform(X_test)"
   ]
  },
  {
   "cell_type": "markdown",
   "metadata": {},
   "source": [
    "### 차원축소 : PCA"
   ]
  },
  {
   "attachments": {
    "image.png": {
     "image/png": "[encoded data removed]"
    }
   },
   "cell_type": "markdown",
   "metadata": {},
   "source": [
    "![image.png](attachment:image.png)"
   ]
  },
  {
   "cell_type": "markdown",
   "metadata": {},
   "source": [
    "최적 PCA : n_components - 187"
   ]
  },
  {
   "cell_type": "code",
   "execution_count": 5,
   "metadata": {},
   "outputs": [],
   "source": [
    "pca = PCA(n_components=187, random_state=42)\n",
    "X_train_pca = pca.fit_transform(X_train_st)\n",
    "X_test_pca = pca.transform(X_test_st)"
   ]
  },
  {
   "cell_type": "markdown",
   "metadata": {},
   "source": [
    "### private 로드, 정규화, 차원축소"
   ]
  },
  {
   "cell_type": "code",
   "execution_count": 6,
   "metadata": {},
   "outputs": [],
   "source": [
    "# private set load\n",
    "import os\n",
    "from PIL import Image\n",
    "\n",
    "data_dir = \"./private_data/merged_result_data_shift_half_1/data\"\n",
    "file_names = [f for f in os.listdir(data_dir) if os.path.isfile(os.path.join(data_dir, f))]\n",
    "Test_set = []\n",
    "for file in file_names:\n",
    "    if file.endswith('png'):\n",
    "        file_path = os.path.join(data_dir,file)\n",
    "        img = Image.open(file_path)\n",
    "        if img.mode == 'RGB':\n",
    "            img = img.convert('L')\n",
    "        img_arr = np.array(img,dtype=float)\n",
    "        img_arr/=255\n",
    "        # print(img_arr.shape, file)\n",
    "        Test_set.append(img_arr)\n",
    "\n",
    "Test_set = np.array(Test_set)\n",
    "test_flattened = Test_set.reshape(Test_set.shape[0], -1)\n",
    "\n",
    "test_flattened = stdscaler.transform(test_flattened)\n",
    "test_pca = pca.transform(test_flattened)"
   ]
  },
  {
   "cell_type": "code",
   "execution_count": 7,
   "metadata": {},
   "outputs": [],
   "source": [
    "private_pca = test_pca.copy()"
   ]
  },
  {
   "cell_type": "code",
   "execution_count": 16,
   "metadata": {},
   "outputs": [
    {
     "data": {
      "text/plain": [
       "array([[0., 0., 0., ..., 0., 0., 0.],\n",
       "       [0., 0., 0., ..., 0., 0., 0.],\n",
       "       [0., 0., 0., ..., 0., 0., 0.],\n",
       "       ...,\n",
       "       [0., 0., 0., ..., 0., 0., 0.],\n",
       "       [0., 0., 0., ..., 0., 0., 0.],\n",
       "       [0., 0., 0., ..., 0., 0., 0.]], dtype=float32)"
      ]
     },
     "execution_count": 16,
     "metadata": {},
     "output_type": "execute_result"
    }
   ],
   "source": [
    "private_df = pd.read_csv('./Private_data_csv/Private_data/Private_data.csv', sep=',')\n",
    "private_data = np.array(private_df, dtype = 'float32')\n",
    "private_data"
   ]
  },
  {
   "cell_type": "code",
   "execution_count": 17,
   "metadata": {},
   "outputs": [],
   "source": [
    "private_scale = stdscaler.transform(private_data)\n",
    "private_pca = pca.transform(private_scale)"
   ]
  },
  {
   "cell_type": "markdown",
   "metadata": {},
   "source": [
    "데이터 증강...?"
   ]
  },
  {
   "cell_type": "markdown",
   "metadata": {},
   "source": [
    "---"
   ]
  },
  {
   "cell_type": "markdown",
   "metadata": {},
   "source": [
    "### 단일 모델 학습\n",
    "최적 SVM Parameters: `{'C': 10, 'svm__degree': 3, 'svm__gamma': 'scale', 'svm__kernel': 'rbf'}`"
   ]
  },
  {
   "cell_type": "code",
   "execution_count": 7,
   "metadata": {},
   "outputs": [
    {
     "name": "stdout",
     "output_type": "stream",
     "text": [
      "best SVM 정확도:  0.9063\n"
     ]
    }
   ],
   "source": [
    "svm_opt = svm.SVC(C=10, degree=3, gamma='scale', kernel='rbf')\n",
    "svm_opt.fit(X_train_pca, y_train)\n",
    "svm_opt_y_pred = svm_opt.predict(X_test_pca)\n",
    "svm_opt_acc = accuracy_score(y_test, svm_opt_y_pred)\n",
    "print(\"best SVM 정확도: \", svm_opt_acc)"
   ]
  },
  {
   "cell_type": "code",
   "execution_count": 9,
   "metadata": {},
   "outputs": [],
   "source": [
    "# 각 test 샘플의 예측 결과를 텍스트 파일에 저장\n",
    "result_file_path = 'testRsult_SVM_Best_y.txt'\n",
    "# with open(result_file_path, 'w') as file:\n",
    "#     for i, pred in enumerate(svm_opt_y_pred):\n",
    "#         file.write(f'{pred}')\n",
    "\n",
    "with open(result_file_path, \"w\") as f:\n",
    "    for f_name, prediction in zip(file_names, svm_opt_y_pred):\n",
    "        f_name = f_name.replace(\".png\",\"\")\n",
    "        f.write(f\"{f_name} {prediction}\\n\")"
   ]
  },
  {
   "cell_type": "code",
   "execution_count": 10,
   "metadata": {},
   "outputs": [],
   "source": [
    "# 각 private 샘플의 예측 결과를 텍스트 파일에 저장\n",
    "svm_opt_y_pivate = svm_opt.predict(private_pca)\n",
    "result_file_path = 'testRsult_SVM_Best_private.txt'\n",
    "# with open(result_file_path, 'w') as file:\n",
    "#     for i, pred in enumerate(svm_opt_y_pivate):\n",
    "#         file.write(f'{pred}')\n",
    "\n",
    "with open(result_file_path, \"w\") as f:\n",
    "    for f_name, prediction in zip(file_names, svm_opt_y_pivate):\n",
    "        f_name = f_name.replace(\".png\",\"\")\n",
    "        f.write(f\"{f_name} {prediction}\\n\")"
   ]
  },
  {
   "cell_type": "markdown",
   "metadata": {},
   "source": [
    "---"
   ]
  },
  {
   "cell_type": "markdown",
   "metadata": {},
   "source": [
    "### 앙상블"
   ]
  },
  {
   "cell_type": "markdown",
   "metadata": {},
   "source": [
    "1. `AdaBoost`"
   ]
  },
  {
   "cell_type": "code",
   "execution_count": 13,
   "metadata": {},
   "outputs": [],
   "source": [
    "svm_rbf = svm.SVC(C=10, degree=3, gamma='scale', kernel='rbf', probability=True)\n",
    "\n",
    "ada = AdaBoostClassifier(svm_rbf, n_estimators=10, random_state=42, verbose=True)\n",
    "\n",
    "ada.fit(X_train_pca, y_train)\n",
    "y_pred = ada.predict(X_test_pca)\n",
    "ada_acc = accuracy_score(y_test, y_pred)\n",
    "print(\"AdaBoost(최적 SVM 기반) 정확도\", ada_acc)"
   ]
  },
  {
   "cell_type": "code",
   "execution_count": null,
   "metadata": {},
   "outputs": [],
   "source": [
    "# 각 test 샘플의 예측 결과를 텍스트 파일에 저장\n",
    "result_file_path = 'testRsult_Ada_y.txt'\n",
    "# with open(result_file_path, 'w') as file:\n",
    "#     for i, pred in enumerate(svm_opt_y_pred):\n",
    "#         file.write(f'{pred}')\n",
    "\n",
    "with open(result_file_path, \"w\") as f:\n",
    "    for f_name, prediction in zip(file_names, svm_opt_y_pred):\n",
    "        f_name = f_name.replace(\".png\",\"\")\n",
    "        f.write(f\"{f_name} {prediction}\\n\")"
   ]
  },
  {
   "cell_type": "code",
   "execution_count": null,
   "metadata": {},
   "outputs": [],
   "source": [
    "# 각 private 샘플의 예측 결과를 텍스트 파일에 저장\n",
    "svm_opt_y_pivate = svm_opt.predict(private_pca)\n",
    "result_file_path = 'testRsult_Ada_private.txt'\n",
    "# with open(result_file_path, 'w') as file:\n",
    "#     for i, pred in enumerate(svm_opt_y_pivate):\n",
    "#         file.write(f'{pred}')\n",
    "\n",
    "with open(result_file_path, \"w\") as f:\n",
    "    for f_name, prediction in zip(file_names, svm_opt_y_pivate):\n",
    "        f_name = f_name.replace(\".png\",\"\")\n",
    "        f.write(f\"{f_name} {prediction}\\n\")"
   ]
  },
  {
   "cell_type": "markdown",
   "metadata": {},
   "source": [
    "2. `Bagging`"
   ]
  },
  {
   "cell_type": "code",
   "execution_count": null,
   "metadata": {},
   "outputs": [],
   "source": [
    "svm_opt = svm.SVC(C=10, degree=3, gamma='scale', kernel='rbf')\n",
    "\n",
    "bag = BaggingClassifier(svm_opt, 10, random_state=42, verbose=True, n_jobs=2)\n",
    "\n",
    "bag.fit(X_train_pca, y_train)\n",
    "y_pred = bag.predict(X_test_pca)\n",
    "bag_acc = accuracy_score(y_test, y_pred)\n",
    "print(\"Bagging(최적 SVM 기반) 정확도\", bag_acc)"
   ]
  },
  {
   "cell_type": "code",
   "execution_count": null,
   "metadata": {},
   "outputs": [],
   "source": [
    "y_pred = bag.predict(X_test_pca)\n",
    "bag_acc = accuracy_score(y_test, y_pred)\n",
    "print(bag_acc)"
   ]
  },
  {
   "cell_type": "code",
   "execution_count": null,
   "metadata": {},
   "outputs": [],
   "source": [
    "# 각 test 샘플의 예측 결과를 텍스트 파일에 저장\n",
    "result_file_path = 'testRsult_Bagging_y.txt'\n",
    "# with open(result_file_path, 'w') as file:\n",
    "#     for i, pred in enumerate(svm_opt_y_pred):\n",
    "#         file.write(f'{pred}')\n",
    "\n",
    "with open(result_file_path, \"w\") as f:\n",
    "    for f_name, prediction in zip(file_names, svm_opt_y_pred):\n",
    "        f_name = f_name.replace(\".png\",\"\")\n",
    "        f.write(f\"{f_name} {prediction}\\n\")"
   ]
  },
  {
   "cell_type": "code",
   "execution_count": null,
   "metadata": {},
   "outputs": [],
   "source": [
    "# 각 private 샘플의 예측 결과를 텍스트 파일에 저장\n",
    "svm_opt_y_pivate = svm_opt.predict(private_pca)\n",
    "result_file_path = 'testRsult_Bagging_private.txt'\n",
    "# with open(result_file_path, 'w') as file:\n",
    "#     for i, pred in enumerate(svm_opt_y_pivate):\n",
    "#         file.write(f'{pred}')\n",
    "\n",
    "with open(result_file_path, \"w\") as f:\n",
    "    for f_name, prediction in zip(file_names, svm_opt_y_pivate):\n",
    "        f_name = f_name.replace(\".png\",\"\")\n",
    "        f.write(f\"{f_name} {prediction}\\n\")"
   ]
  },
  {
   "cell_type": "markdown",
   "metadata": {},
   "source": [
    "---"
   ]
  },
  {
   "cell_type": "markdown",
   "metadata": {},
   "source": [
    "### 서로 다른 모델 결합"
   ]
  },
  {
   "cell_type": "markdown",
   "metadata": {},
   "source": [
    "1. `SVM & linearSVM & 결정트리 => voting`"
   ]
  },
  {
   "cell_type": "code",
   "execution_count": 9,
   "metadata": {},
   "outputs": [
    {
     "name": "stdout",
     "output_type": "stream",
     "text": [
      "voting(최적 SVM, linearSVM, 결정트리) 정확도 0.8799\n"
     ]
    }
   ],
   "source": [
    "svm_opt = svm.SVC(C=10, degree=3, gamma='scale', kernel='rbf', random_state=42)\n",
    "svm_linear = svm.LinearSVC(loss='squared_hinge', C=1, random_state=42)\n",
    "DT = DecisionTreeClassifier(criterion='entropy', random_state=42)\n",
    "\n",
    "vote_svm_DT = VotingClassifier(estimators=[('svm_opt', svm_opt), ('svm_linear', svm_linear), ('DT',DT)],\n",
    "                               voting='hard', n_jobs=4, verbose=True)\n",
    "vote_svm_DT.fit(X_train_pca, y_train)\n",
    "vote_svm_DT_y_pred = vote_svm_DT.predict(X_test_pca)\n",
    "vote_svm_DT_acc = accuracy_score(y_test, vote_svm_DT_y_pred)\n",
    "print(\"voting(최적 SVM, linearSVM, 결정트리) 정확도\", vote_svm_DT_acc)"
   ]
  },
  {
   "cell_type": "code",
   "execution_count": 11,
   "metadata": {},
   "outputs": [],
   "source": [
    "# 각 test 샘플의 예측 결과를 텍스트 파일에 저장\n",
    "result_file_path = 'testRsult_Vote_svm_DT_y.txt'\n",
    "# with open(result_file_path, 'w') as file:\n",
    "#     for i, pred in enumerate(svm_opt_y_pred):\n",
    "#         file.write(f'{pred}')\n",
    "\n",
    "with open(result_file_path, \"w\") as f:\n",
    "    for f_name, prediction in zip(file_names, vote_svm_DT_y_pred):\n",
    "        f_name = f_name.replace(\".png\",\"\")\n",
    "        f.write(f\"{f_name} {prediction}\\n\")"
   ]
  },
  {
   "cell_type": "code",
   "execution_count": 19,
   "metadata": {},
   "outputs": [],
   "source": [
    "# 각 private 샘플의 예측 결과를 텍스트 파일에 저장\n",
    "svm_opt_y_pivate = vote_svm_DT.predict(private_pca)\n",
    "result_file_path = 'testRsult_Vote_svm_DT_private.txt'\n",
    "# with open(result_file_path, 'w') as file:\n",
    "#     for i, pred in enumerate(svm_opt_y_pivate):\n",
    "#         file.write(f'{pred}')\n",
    "\n",
    "with open(result_file_path, \"w\") as f:\n",
    "    for f_name, prediction in zip(file_names, svm_opt_y_pivate):\n",
    "        f_name = f_name.replace(\".png\",\"\")\n",
    "        f.write(f\"{f_name} {prediction}\\n\")"
   ]
  },
  {
   "cell_type": "code",
   "execution_count": 20,
   "metadata": {},
   "outputs": [],
   "source": [
    "with open(result_file_path, \"w\") as f:\n",
    "    for f_name, prediction in zip(file_names, svm_opt_y_pivate):\n",
    "        prediction = int(prediction)\n",
    "        f_name = f_name.replace(\".png\",\"\")\n",
    "        f.write(f\"{f_name} {prediction}\\n\")"
   ]
  },
  {
   "cell_type": "code",
   "execution_count": 18,
   "metadata": {},
   "outputs": [
    {
     "data": {
      "text/plain": [
       "array([[ 2.3962004e+00, -1.5826545e+00, -2.3741906e+00, ...,\n",
       "        -4.5112833e-01,  5.7442546e-02,  4.4731724e-01],\n",
       "       [ 9.7861462e+00, -1.7478561e-01,  8.6935959e+00, ...,\n",
       "        -1.2751454e-01, -5.9991464e-02, -4.9561419e-02],\n",
       "       [-2.8269558e+00, -1.2618008e+01, -6.8096757e+00, ...,\n",
       "        -5.2860194e-01, -5.6782208e-02,  4.9288929e-02],\n",
       "       ...,\n",
       "       [ 1.9400639e+01, -6.7537460e+00, -6.8726802e+00, ...,\n",
       "        -1.4858022e-01,  6.6577971e-01, -4.0637279e-01],\n",
       "       [ 2.0040323e+01, -2.1320612e+00, -2.3843365e+00, ...,\n",
       "         1.0799684e-02,  1.7330797e-01,  4.6326548e-02],\n",
       "       [-1.4528280e+00, -1.2541035e+01, -1.1208300e+01, ...,\n",
       "         6.1211407e-02, -1.4103121e-01,  4.1051537e-02]], dtype=float32)"
      ]
     },
     "execution_count": 18,
     "metadata": {},
     "output_type": "execute_result"
    }
   ],
   "source": [
    "private_pca"
   ]
  },
  {
   "cell_type": "code",
   "execution_count": null,
   "metadata": {},
   "outputs": [],
   "source": []
  }
 ],
 "metadata": {
  "kernelspec": {
   "display_name": "base",
   "language": "python",
   "name": "python3"
  },
  "language_info": {
   "codemirror_mode": {
    "name": "ipython",
    "version": 3
   },
   "file_extension": ".py",
   "mimetype": "text/x-python",
   "name": "python",
   "nbconvert_exporter": "python",
   "pygments_lexer": "ipython3",
   "version": "3.8.5"
  }
 },
 "nbformat": 4,
 "nbformat_minor": 2
}
